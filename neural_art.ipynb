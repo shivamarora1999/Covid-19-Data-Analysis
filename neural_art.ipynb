{
  "nbformat": 4,
  "nbformat_minor": 0,
  "metadata": {
    "colab": {
      "name": "neural art.ipynb",
      "provenance": [],
      "authorship_tag": "ABX9TyNEW/Mqfpg7rylIOJ4nL9Xt",
      "include_colab_link": true
    },
    "kernelspec": {
      "name": "python3",
      "display_name": "Python 3"
    },
    "language_info": {
      "name": "python"
    },
    "accelerator": "GPU"
  },
  "cells": [
    {
      "cell_type": "markdown",
      "metadata": {
        "id": "view-in-github",
        "colab_type": "text"
      },
      "source": [
        "<a href=\"https://colab.research.google.com/github/shivamarora1999/Covid-19-Data-Analysis/blob/main/neural_art.ipynb\" target=\"_parent\"><img src=\"https://colab.research.google.com/assets/colab-badge.svg\" alt=\"Open In Colab\"/></a>"
      ]
    },
    {
      "cell_type": "code",
      "metadata": {
        "id": "_O4skAxp7y06"
      },
      "source": [
        "import tensorflow as tf\n",
        "import numpy as np\n",
        "import matplotlib.pyplot as plt\n",
        "\n",
        "import cv2\n",
        "import PIL\n",
        "\n",
        "from tensorflow.keras import Model\n"
      ],
      "execution_count": 1,
      "outputs": []
    },
    {
      "cell_type": "code",
      "metadata": {
        "colab": {
          "base_uri": "https://localhost:8080/"
        },
        "id": "_AEuv0HdBQFa",
        "outputId": "00d3bb84-7d99-473d-bb00-ee43f2c49b92"
      },
      "source": [
        "vgg = tf.keras.applications.VGG19(include_top=True , weights =\"imagenet\")\n",
        "\n",
        "for layers in vgg.layers:\n",
        "  print(f\"{layers.name}---> {layers.output_shape}\")"
      ],
      "execution_count": 4,
      "outputs": [
        {
          "output_type": "stream",
          "name": "stdout",
          "text": [
            "Downloading data from https://storage.googleapis.com/tensorflow/keras-applications/vgg19/vgg19_weights_tf_dim_ordering_tf_kernels.h5\n",
            "574717952/574710816 [==============================] - 7s 0us/step\n",
            "574726144/574710816 [==============================] - 7s 0us/step\n",
            "input_1---> [(None, 224, 224, 3)]\n",
            "block1_conv1---> (None, 224, 224, 64)\n",
            "block1_conv2---> (None, 224, 224, 64)\n",
            "block1_pool---> (None, 112, 112, 64)\n",
            "block2_conv1---> (None, 112, 112, 128)\n",
            "block2_conv2---> (None, 112, 112, 128)\n",
            "block2_pool---> (None, 56, 56, 128)\n",
            "block3_conv1---> (None, 56, 56, 256)\n",
            "block3_conv2---> (None, 56, 56, 256)\n",
            "block3_conv3---> (None, 56, 56, 256)\n",
            "block3_conv4---> (None, 56, 56, 256)\n",
            "block3_pool---> (None, 28, 28, 256)\n",
            "block4_conv1---> (None, 28, 28, 512)\n",
            "block4_conv2---> (None, 28, 28, 512)\n",
            "block4_conv3---> (None, 28, 28, 512)\n",
            "block4_conv4---> (None, 28, 28, 512)\n",
            "block4_pool---> (None, 14, 14, 512)\n",
            "block5_conv1---> (None, 14, 14, 512)\n",
            "block5_conv2---> (None, 14, 14, 512)\n",
            "block5_conv3---> (None, 14, 14, 512)\n",
            "block5_conv4---> (None, 14, 14, 512)\n",
            "block5_pool---> (None, 7, 7, 512)\n",
            "flatten---> (None, 25088)\n",
            "fc1---> (None, 4096)\n",
            "fc2---> (None, 4096)\n",
            "predictions---> (None, 1000)\n"
          ]
        }
      ]
    }
  ]
}